{
 "cells": [
  {
   "cell_type": "code",
   "execution_count": 9,
   "metadata": {},
   "outputs": [
    {
     "ename": "SystemError",
     "evalue": "initialization of hoc did not return an extension module",
     "output_type": "error",
     "traceback": [
      "\u001b[1;31m---------------------------------------------------------------------------\u001b[0m",
      "\u001b[1;31mSystemError\u001b[0m                               Traceback (most recent call last)",
      "File \u001b[1;32m~\\Documents\\neuron\\nrn\\lib\\python\\neuron\\__init__.py:135\u001b[0m\n\u001b[0;32m    134\u001b[0m \u001b[39mtry\u001b[39;00m:\n\u001b[1;32m--> 135\u001b[0m     \u001b[39mfrom\u001b[39;00m \u001b[39m.\u001b[39;00m \u001b[39mimport\u001b[39;00m hoc\n\u001b[0;32m    136\u001b[0m \u001b[39mexcept\u001b[39;00m:\n",
      "\u001b[1;31mSystemError\u001b[0m: initialization of hoc did not return an extension module",
      "\nDuring handling of the above exception, another exception occurred:\n",
      "\u001b[1;31mSystemError\u001b[0m                               Traceback (most recent call last)",
      "\u001b[1;32mc:\\Users\\angel\\Documents\\Acoplamento_Efatico\\testes.ipynb Cell 1\u001b[0m in \u001b[0;36m1\n\u001b[1;32m----> <a href='vscode-notebook-cell:/c%3A/Users/angel/Documents/Acoplamento_Efatico/testes.ipynb#W0sZmlsZQ%3D%3D?line=0'>1</a>\u001b[0m \u001b[39mimport\u001b[39;00m \u001b[39mneuron\u001b[39;00m\n",
      "File \u001b[1;32m~\\Documents\\neuron\\nrn\\lib\\python\\neuron\\__init__.py:137\u001b[0m\n\u001b[0;32m    135\u001b[0m     \u001b[39mfrom\u001b[39;00m \u001b[39m.\u001b[39;00m \u001b[39mimport\u001b[39;00m hoc\n\u001b[0;32m    136\u001b[0m \u001b[39mexcept\u001b[39;00m:\n\u001b[1;32m--> 137\u001b[0m     \u001b[39mimport\u001b[39;00m \u001b[39mneuron\u001b[39;00m\u001b[39m.\u001b[39;00m\u001b[39mhoc\u001b[39;00m\n\u001b[0;32m    139\u001b[0m \u001b[39mimport\u001b[39;00m \u001b[39mnrn\u001b[39;00m\n\u001b[0;32m    140\u001b[0m \u001b[39mimport\u001b[39;00m \u001b[39m_neuron_section\u001b[39;00m\n",
      "\u001b[1;31mSystemError\u001b[0m: initialization of hoc did not return an extension module"
     ]
    }
   ],
   "source": [
    "import neuron \n"
   ]
  },
  {
   "cell_type": "code",
   "execution_count": null,
   "metadata": {},
   "outputs": [],
   "source": [
    " "
   ]
  }
 ],
 "metadata": {
  "kernelspec": {
   "display_name": "Python 3",
   "language": "python",
   "name": "python3"
  },
  "language_info": {
   "codemirror_mode": {
    "name": "ipython",
    "version": 3
   },
   "file_extension": ".py",
   "mimetype": "text/x-python",
   "name": "python",
   "nbconvert_exporter": "python",
   "pygments_lexer": "ipython3",
   "version": "3.10.11"
  },
  "orig_nbformat": 4,
  "vscode": {
   "interpreter": {
    "hash": "c51acc1f6588e1d877ef583c61706ab2fa8ab6987e63afd43dd1fd5da2227427"
   }
  }
 },
 "nbformat": 4,
 "nbformat_minor": 2
}
